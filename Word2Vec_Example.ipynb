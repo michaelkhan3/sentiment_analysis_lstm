{
 "cells": [
  {
   "cell_type": "code",
   "execution_count": 1,
   "metadata": {
    "collapsed": true
   },
   "outputs": [],
   "source": [
    "import pandas as pd\n",
    "import csv\n",
    "import numpy as np"
   ]
  },
  {
   "cell_type": "code",
   "execution_count": 2,
   "metadata": {
    "collapsed": true
   },
   "outputs": [],
   "source": [
    "words = pd.read_table(\"glove_word2Vec/glove.6B/glove.6B.50d.txt\", sep=\" \", index_col=0, header=None, quoting=csv.QUOTE_NONE)"
   ]
  },
  {
   "cell_type": "code",
   "execution_count": 3,
   "metadata": {},
   "outputs": [
    {
     "data": {
      "text/plain": [
       "(400000, 50)"
      ]
     },
     "execution_count": 3,
     "metadata": {},
     "output_type": "execute_result"
    }
   ],
   "source": [
    "words.shape"
   ]
  },
  {
   "cell_type": "code",
   "execution_count": 4,
   "metadata": {},
   "outputs": [
    {
     "data": {
      "text/plain": [
       "400000"
      ]
     },
     "execution_count": 4,
     "metadata": {},
     "output_type": "execute_result"
    }
   ],
   "source": [
    "len(words.index)"
   ]
  },
  {
   "cell_type": "code",
   "execution_count": 5,
   "metadata": {
    "collapsed": true
   },
   "outputs": [],
   "source": [
    "def vec(w):\n",
    "  return words.loc[w].as_matrix()"
   ]
  },
  {
   "cell_type": "code",
   "execution_count": 6,
   "metadata": {},
   "outputs": [
    {
     "data": {
      "text/plain": [
       "array([ 1.0135  , -0.40839 , -0.79064 ,  0.25665 , -0.030741,  0.52863 ,\n",
       "       -0.65543 , -0.45665 ,  1.2548  , -0.1706  ,  0.15698 ,  0.80643 ,\n",
       "        1.0898  ,  0.93303 ,  0.17146 , -0.20309 ,  0.57221 ,  0.10845 ,\n",
       "       -2.2513  ,  0.66156 , -0.98    , -0.44982 ,  0.57944 , -0.1831  ,\n",
       "        0.22618 , -0.83407 , -0.071124,  0.82311 ,  0.22218 , -0.66058 ,\n",
       "        1.0786  , -0.21995 ,  0.81882 ,  0.64377 , -0.69963 ,  0.42002 ,\n",
       "       -0.030824, -0.79903 ,  0.4401  , -0.99521 , -0.27295 ,  0.061863,\n",
       "        0.46772 ,  0.8569  ,  1.2219  , -0.5549  ,  0.40013 , -0.31513 ,\n",
       "        0.74027 ,  0.40346 ])"
      ]
     },
     "execution_count": 6,
     "metadata": {},
     "output_type": "execute_result"
    }
   ],
   "source": [
    "vec(\"shark\")"
   ]
  },
  {
   "cell_type": "code",
   "execution_count": 7,
   "metadata": {},
   "outputs": [
    {
     "data": {
      "text/plain": [
       "array([ 0.2559   , -0.31452  , -1.0079   ,  0.1434   ,  0.52982  ,\n",
       "        0.31531  , -0.82169  ,  0.0060026,  1.5235   , -0.40637  ,\n",
       "        0.20401  ,  0.93042  ,  2.061    ,  0.73117  ,  0.44506  ,\n",
       "       -0.0043559,  1.2895   , -0.16854  , -1.1219   , -0.80836  ,\n",
       "       -0.19725  , -1.2056   ,  1.2739   ,  0.23962  ,  0.44387  ,\n",
       "       -0.77988  ,  0.1557   ,  0.28534  ,  1.0253   , -0.61694  ,\n",
       "        2.5009   , -0.41019  ,  0.57532  ,  0.51033  , -0.060849 ,\n",
       "        0.40419  , -0.34696  ,  0.38221  ,  0.629    , -0.22291  ,\n",
       "       -0.32009  ,  0.21292  ,  1.0723   ,  0.32437  ,  1.3304   ,\n",
       "        0.54586  , -0.22236  , -0.80589  ,  0.16487  ,  0.29792  ])"
      ]
     },
     "execution_count": 7,
     "metadata": {},
     "output_type": "execute_result"
    }
   ],
   "source": [
    "vec(\"fish\")"
   ]
  },
  {
   "cell_type": "code",
   "execution_count": 8,
   "metadata": {
    "collapsed": true
   },
   "outputs": [],
   "source": [
    "words_matrix = words.as_matrix()\n",
    "\n",
    "def find_closest_word(v):\n",
    "    diff = words_matrix - v\n",
    "    delta = np.sum(diff * diff, axis=1)\n",
    "    i = np.argmin(delta)\n",
    "    return words.iloc[i].name\n",
    "\n",
    "def find_five_closest(v):\n",
    "    diff = words_matrix - v\n",
    "    delta = np.sum(diff * diff, axis=1)\n",
    "    test = np.argsort(delta)\n",
    "    for x in range(0, 6):\n",
    "        i = test[x]\n",
    "        print(words.iloc[i].name)"
   ]
  },
  {
   "cell_type": "code",
   "execution_count": 10,
   "metadata": {},
   "outputs": [
    {
     "name": "stdout",
     "output_type": "stream",
     "text": [
      "fish\n",
      "salmon\n",
      "shrimp\n",
      "meat\n",
      "bird\n",
      "wild\n"
     ]
    }
   ],
   "source": [
    "find_five_closest(vec(\"fish\"))"
   ]
  },
  {
   "cell_type": "code",
   "execution_count": 11,
   "metadata": {},
   "outputs": [
    {
     "name": "stdout",
     "output_type": "stream",
     "text": [
      "chirac\n",
      "sarkozy\n",
      "putin\n",
      "clinton\n",
      "bush\n",
      "yeltsin\n"
     ]
    }
   ],
   "source": [
    "find_five_closest(vec(\"obama\") - vec(\"usa\") + vec(\"france\"))"
   ]
  },
  {
   "cell_type": "code",
   "execution_count": 12,
   "metadata": {},
   "outputs": [
    {
     "name": "stdout",
     "output_type": "stream",
     "text": [
      "king\n",
      "queen\n",
      "prince\n",
      "elizabeth\n",
      "daughter\n",
      "widow\n"
     ]
    }
   ],
   "source": [
    "find_five_closest(vec(\"king\") - vec(\"man\") + vec(\"woman\"))"
   ]
  },
  {
   "cell_type": "code",
   "execution_count": 13,
   "metadata": {},
   "outputs": [
    {
     "name": "stdout",
     "output_type": "stream",
     "text": [
      "plane\n",
      "flying\n",
      "fly\n",
      "planes\n",
      "aircraft\n",
      "off\n"
     ]
    }
   ],
   "source": [
    "find_five_closest(vec(\"car\") + vec(\"wings\") + vec(\"fly\"))"
   ]
  },
  {
   "cell_type": "code",
   "execution_count": 15,
   "metadata": {},
   "outputs": [
    {
     "name": "stdout",
     "output_type": "stream",
     "text": [
      "bad\n",
      "best\n",
      "ever\n",
      "gone\n",
      "worst\n",
      "unfortunately\n"
     ]
    }
   ],
   "source": [
    "find_five_closest(vec(\"best\") - vec(\"good\") + vec(\"bad\"))"
   ]
  }
 ],
 "metadata": {
  "kernelspec": {
   "display_name": "Python 3",
   "language": "python",
   "name": "python3"
  },
  "language_info": {
   "codemirror_mode": {
    "name": "ipython",
    "version": 3
   },
   "file_extension": ".py",
   "mimetype": "text/x-python",
   "name": "python",
   "nbconvert_exporter": "python",
   "pygments_lexer": "ipython3",
   "version": "3.5.2"
  }
 },
 "nbformat": 4,
 "nbformat_minor": 2
}
