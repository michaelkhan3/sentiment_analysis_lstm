{
 "cells": [
  {
   "cell_type": "markdown",
   "metadata": {},
   "source": [
    "# Testing pre-trained network"
   ]
  },
  {
   "cell_type": "code",
   "execution_count": 1,
   "metadata": {
    "collapsed": true
   },
   "outputs": [],
   "source": [
    "import pandas as pd\n",
    "import numpy as np\n",
    "import tensorflow as tf"
   ]
  },
  {
   "cell_type": "markdown",
   "metadata": {},
   "source": [
    "## Load test data\n",
    "\n",
    "Now that the trained network is loaded the test data to be fed into it will be loaded.\n",
    "\n",
    "The original data is required for the sentiment labels and the ids matrix will be fed into the neural network."
   ]
  },
  {
   "cell_type": "code",
   "execution_count": 2,
   "metadata": {
    "collapsed": true
   },
   "outputs": [],
   "source": [
    "test_reviews = pd.read_csv(\"movie_review_dataset/labeledTrainData/test_data.csv\")\n",
    "test_reviews_ids_df = pd.read_csv(\"movie_review_dataset/labeledTrainData/test_ids_matrix.csv\")"
   ]
  },
  {
   "cell_type": "markdown",
   "metadata": {},
   "source": [
    "## Load word vectors"
   ]
  },
  {
   "cell_type": "code",
   "execution_count": 3,
   "metadata": {
    "collapsed": true
   },
   "outputs": [],
   "source": [
    "wordsVector = np.load('glove_word2Vec/wordVectors.npy')\n",
    "wordsList = np.load('glove_word2Vec/wordsList.npy').tolist()\n",
    "wordsList = [word.decode('UTF-8') for word in wordsList]"
   ]
  },
  {
   "cell_type": "markdown",
   "metadata": {},
   "source": [
    "## Set up the Tensorflow graph"
   ]
  },
  {
   "cell_type": "code",
   "execution_count": 4,
   "metadata": {
    "collapsed": true
   },
   "outputs": [],
   "source": [
    "maxSeqLength = 250\n",
    "numDimensions = 50\n",
    "\n",
    "batch_size = 24\n",
    "lstm_units = 64\n",
    "num_classes = 2\n",
    "# 58K epochs looks to be optimal for this network\n",
    "iterations = 58000\n",
    "learning_rate = 0.001\n",
    "\n",
    "# Dropout params\n",
    "do_in = 0.7\n",
    "do_out = 0.6\n",
    "do_state = 1\n",
    "lambda_l2 = 0.00015"
   ]
  },
  {
   "cell_type": "code",
   "execution_count": 5,
   "metadata": {
    "collapsed": true
   },
   "outputs": [],
   "source": [
    "tf.reset_default_graph()\n",
    "\n",
    "labels = tf.placeholder(tf.float32, [batch_size, num_classes])\n",
    "input_data = tf.placeholder(tf.int32, [batch_size, maxSeqLength])\n",
    "\n",
    "data = tf.Variable(tf.zeros([batch_size, maxSeqLength, numDimensions]), dtype=tf.float32, name=\"data\", trainable=False)\n",
    "data = tf.nn.embedding_lookup(wordsVector, input_data)\n",
    "\n",
    "lstm_cell = tf.contrib.rnn.BasicLSTMCell(lstm_units)\n",
    "lstm_cell = tf.contrib.rnn.DropoutWrapper(cell=lstm_cell, output_keep_prob=do_out, input_keep_prob=do_in, state_keep_prob=do_state)\n",
    "value, _ = tf.nn.dynamic_rnn(lstm_cell, data, dtype=tf.float32)\n",
    "\n",
    "weight = tf.Variable(tf.truncated_normal([lstm_units, num_classes]), name=\"kernel\")\n",
    "bias = tf.Variable(tf.constant(0.1, shape=[num_classes]), name=\"bias\")\n",
    "value = tf.transpose(value, [1, 0, 2])\n",
    "last = tf.gather(value, int(value.get_shape()[0]) - 1)\n",
    "prediction = (tf.matmul(last, weight) + bias)\n",
    "\n",
    "correctPred = tf.equal(tf.argmax(prediction, 1), tf.argmax(labels,1))\n",
    "accuracy = tf.reduce_mean(tf.cast(correctPred, tf.float32))"
   ]
  },
  {
   "cell_type": "markdown",
   "metadata": {},
   "source": [
    "## Helper function to get test batch"
   ]
  },
  {
   "cell_type": "code",
   "execution_count": 6,
   "metadata": {
    "collapsed": true
   },
   "outputs": [],
   "source": [
    "def get_test_batch(batch_num):\n",
    "    start_from = batch_num * batch_size\n",
    "    end_at = start_from + batch_size\n",
    "    arr = np.zeros([batch_size, maxSeqLength])\n",
    "    labels = []\n",
    "    \n",
    "    for i in range(batch_size):\n",
    "        num = start_from + i\n",
    "        arr[i] = test_reviews_ids_df[num:num+1].as_matrix()\n",
    "        if test_reviews.iloc[num, 1] == 1:\n",
    "            labels.append([1, 0])\n",
    "        else:\n",
    "            labels.append([0, 1])\n",
    "        \n",
    "    return arr, labels"
   ]
  },
  {
   "cell_type": "markdown",
   "metadata": {},
   "source": [
    "## Load saved neural network"
   ]
  },
  {
   "cell_type": "code",
   "execution_count": 7,
   "metadata": {},
   "outputs": [
    {
     "name": "stdout",
     "output_type": "stream",
     "text": [
      "INFO:tensorflow:Restoring parameters from models/pretrained_lstm.ckpt-1\n"
     ]
    }
   ],
   "source": [
    "sess = tf.InteractiveSession()\n",
    "saver = tf.train.Saver()\n",
    "saver.restore(sess, tf.train.latest_checkpoint('models'))"
   ]
  },
  {
   "cell_type": "markdown",
   "metadata": {},
   "source": [
    "## Run test data through network"
   ]
  },
  {
   "cell_type": "code",
   "execution_count": 8,
   "metadata": {},
   "outputs": [],
   "source": [
    "iterations =  int(np.floor(len(test_reviews)/batch_size))\n",
    "correct_predictions = []\n",
    "\n",
    "for i in range(iterations):\n",
    "    # Get next sequential batch of test reviews\n",
    "    next_batch, next_batch_labels = get_test_batch(i)\n",
    "#     acc = sess.run(accuracy, {input_data: next_batch, labels: next_batch_labels})\n",
    "#     print(acc)\n",
    "    correct = sess.run(correctPred, {input_data: next_batch, labels: next_batch_labels})\n",
    "    correct_predictions.extend(correct.tolist())\n"
   ]
  },
  {
   "cell_type": "code",
   "execution_count": 9,
   "metadata": {},
   "outputs": [
    {
     "data": {
      "text/plain": [
       "0.8377403846153846"
      ]
     },
     "execution_count": 9,
     "metadata": {},
     "output_type": "execute_result"
    }
   ],
   "source": [
    "sum(correct_predictions) / len(correct_predictions)"
   ]
  }
 ],
 "metadata": {
  "kernelspec": {
   "display_name": "Python 3",
   "language": "python",
   "name": "python3"
  },
  "language_info": {
   "codemirror_mode": {
    "name": "ipython",
    "version": 3
   },
   "file_extension": ".py",
   "mimetype": "text/x-python",
   "name": "python",
   "nbconvert_exporter": "python",
   "pygments_lexer": "ipython3",
   "version": "3.5.2"
  }
 },
 "nbformat": 4,
 "nbformat_minor": 2
}
